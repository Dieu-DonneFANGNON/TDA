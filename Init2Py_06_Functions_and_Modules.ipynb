{
 "cells": [
  {
   "cell_type": "markdown",
   "metadata": {},
   "source": [
    "<center>\n",
    "    <a href=\"https://www.aims-senegal.org/\" ><img src=\"aimssn_logo.png\" style=\"float:center; max-width: 600px; display: inline\" alt=\"IMSP\"/> </a>\n",
    "    </center>\n",
    "    \n",
    "#    <center> <b> <span style=\"color:orange;\" >  `Python for Scientific Computing and Software Engineering ` </span> </b></center>\n",
    "\n",
    "\n",
    "## <center> <b> <span style=\"color:orange;\"> An Initiation to Programming using Python (Init2Py) </span> </b></center>\n",
    "\n",
    "### <center> <b> <span style=\"color:blue;\"> Functions and Modules </span> </b></center>"
   ]
  },
  {
   "cell_type": "code",
   "execution_count": null,
   "metadata": {},
   "outputs": [],
   "source": []
  },
  {
   "cell_type": "markdown",
   "metadata": {
    "id": "Q2l9G8K-FZGU"
   },
   "source": [
    "\n",
    "\n",
    "\n",
    "\n",
    " In this section, we will study how to elaborate and apply a function using python. We give a general discussion on how to use a python module.\n",
    "\n"
   ]
  },
  {
   "cell_type": "markdown",
   "metadata": {
    "id": "Uix95WIfFZGq"
   },
   "source": [
    "## Functions\n",
    "Simply defined, a function is a piece of programme, a pack of arranged instructions whose goal is to perform one or many well defined tasks. There are, in python, two categories of funtions: the predefined functions and the ones written by users.\n",
    "\n",
    "- The predefined functions are the ones directly integrated in the python standard library.\n",
    "- The users-functions are written either by the actual user or by many other users."
   ]
  },
  {
   "cell_type": "markdown",
   "metadata": {
    "id": "9HJlBga7FZGu"
   },
   "source": [
    "### Some predefined functions in python\n",
    "\n",
    " - The `print()` function: as we already know, the **print()** function displays on the screen the values of the objects specified as arguments:\n",
    " ```python\n",
    "print(\"Good morning\", \"to\", \"you\")\n",
    "x=12\n",
    "print(x)\n",
    "y=[1, \"monday\",\"12\", 5, 3, \"test value\"]\n",
    "print(y)\n",
    "```\n",
    "We can replace the default separator (the space) by any another character (or by no character), through the argument `sep`:\n",
    "```python\n",
    "    print(\"Good morning\", \"to\", \"you\", sep= \"****\")\n",
    "    print(\"Good morning\", \"to\", \"you\", sep= \"\")\n",
    "```    \n",
    "\n",
    "\n",
    " - The `input()` function : the **input()** function allows to give hand to the user so he can input the value of a given argument:\n",
    " ```python\n",
    "    firstname = input(\"Enter your firstname: \")\n",
    "    print(\"Good morning,\", firstname)\n",
    " ```\n",
    " \n",
    " ```python\n",
    "    print(\"Please enter any positive number: \", end=\" \"  )\n",
    "    ch = input()\n",
    "    num = int(ch) # conversion of the chaîn to an integer\n",
    "    print(\"The square of\", num, \"is\", num**2)\n",
    " ```   "
   ]
  },
  {
   "cell_type": "markdown",
   "metadata": {
    "id": "WBT5ePtTFZGx"
   },
   "source": [
    "**Note** : Note that the `input()` function always returns a chain of characters. If you want the user to input a numerical value, you must convert the input value (whose type will be `string`) to a numerical value of your convenience type, through the integrated functions `int()` (if you want an integer) or `float()`(if you want a real number)."
   ]
  },
  {
   "cell_type": "markdown",
   "metadata": {
    "id": "IiwW79EcFZGy"
   },
   "source": [
    "### The functions defined by the user\n",
    "\n",
    "To define a function in Python, one uses the keyword `def `to declare the name of the function. The general syntax to define a function is the following:\n",
    "\n",
    "        def nameOfTheFunction([parameter1,parameter2,...,parameterN]):\n",
    "        \n",
    "            \"\"\"Documentation of the function.\"\"\"\n",
    "            \n",
    "            <bloc_instructions>\n",
    "            \n",
    " In the definition of a function, the first chain of characters (called docstring) will serve to document the function, accessible from the interpreter via for example `help(temp_f2c)`, or `temp_f2c?` in *jupyter*. It must be both pertinent, concise and complete. It can also include examples of use."
   ]
  },
  {
   "cell_type": "markdown",
   "metadata": {
    "id": "9TCEeyfUFZGz"
   },
   "source": [
    "#### Definition of a simple function without argument\n",
    "The below example illustrates the definition of a simple function without argument. The goal of the function is to display the 20 first values of multiplication table by 8."
   ]
  },
  {
   "cell_type": "code",
   "execution_count": 2,
   "metadata": {
    "id": "JkXtIaOGFZG1"
   },
   "outputs": [],
   "source": [
    "def tableMultiplication8():\n",
    "    \"\"\"\n",
    "    The goal of the function is to display the 20 first values of multiplication table by 8.\n",
    "    Input : None\n",
    "    Output : the multiplication table by 8\n",
    "    \"\"\"\n",
    "    n = 1\n",
    "    while n <=20 :\n",
    "        v = n*8\n",
    "        print(n, 'x', 8, '=', v,sep =' ')\n",
    "        n = n +1"
   ]
  },
  {
   "cell_type": "markdown",
   "metadata": {
    "id": "i_4mcwYFFZG7"
   },
   "source": [
    "To execute the function `tableMultiplication8()` that we've just defined, it is sufficient  to  refer it by indicating its name as follows (every where in the main programme).        "
   ]
  },
  {
   "cell_type": "code",
   "execution_count": 3,
   "metadata": {
    "id": "xIMR2wocFZG9"
   },
   "outputs": [
    {
     "name": "stdout",
     "output_type": "stream",
     "text": [
      "1 x 8 = 8\n",
      "2 x 8 = 16\n",
      "3 x 8 = 24\n",
      "4 x 8 = 32\n",
      "5 x 8 = 40\n",
      "6 x 8 = 48\n",
      "7 x 8 = 56\n",
      "8 x 8 = 64\n",
      "9 x 8 = 72\n",
      "10 x 8 = 80\n",
      "11 x 8 = 88\n",
      "12 x 8 = 96\n",
      "13 x 8 = 104\n",
      "14 x 8 = 112\n",
      "15 x 8 = 120\n",
      "16 x 8 = 128\n",
      "17 x 8 = 136\n",
      "18 x 8 = 144\n",
      "19 x 8 = 152\n",
      "20 x 8 = 160\n"
     ]
    }
   ],
   "source": [
    "tableMultiplication8() # calls the function tableMultiplication8()"
   ]
  },
  {
   "cell_type": "code",
   "execution_count": null,
   "metadata": {},
   "outputs": [],
   "source": []
  },
  {
   "cell_type": "markdown",
   "metadata": {
    "id": "uUIlAD46FZG-"
   },
   "source": [
    "**** \n",
    "<left> <b> <span style=\"color:brown;\">Exercise: </span> </b></left>\n",
    "\n",
    "Use a « for » loop to suggest a version of the function `tableMultiplication8()`.\n",
    "****"
   ]
  },
  {
   "cell_type": "code",
   "execution_count": null,
   "metadata": {},
   "outputs": [],
   "source": [
    "def tableEight():\n",
    "    for i in range(1,11):\n",
    "        v=i*8\n",
    "        print(i, 'x', 8, '=',v ,sep =' ')\n",
    "tableEight()"
   ]
  },
  {
   "cell_type": "markdown",
   "metadata": {
    "id": "6ypMqU3eFZG_"
   },
   "source": [
    "#### Definition of a function whose arguments are parameters\n",
    "\n",
    "A parameter is a variable that takes a constant value. In the previous example, we elaborated a multiplication table by 8. We can generalize that function in such a way it returns the multiplication table of any number specified as argument. These numbers being parameters, it is about to define a function whose arguments are parameters. Here is an example:"
   ]
  },
  {
   "cell_type": "code",
   "execution_count": 17,
   "metadata": {
    "id": "xf5cbad3FZHA"
   },
   "outputs": [],
   "source": [
    "def tableMultiplication(base):\n",
    "    n = 1\n",
    "    while n <=20 :\n",
    "        v=n*base\n",
    "        print(n, 'x', base, '=', v, sep =' ')\n",
    "        n = n +1"
   ]
  },
  {
   "cell_type": "code",
   "execution_count": 19,
   "metadata": {
    "id": "rPYeiA38FZHB"
   },
   "outputs": [
    {
     "name": "stdout",
     "output_type": "stream",
     "text": [
      "1 x 2 = 2\n",
      "2 x 2 = 4\n",
      "3 x 2 = 6\n",
      "4 x 2 = 8\n",
      "5 x 2 = 10\n",
      "6 x 2 = 12\n",
      "7 x 2 = 14\n",
      "8 x 2 = 16\n",
      "9 x 2 = 18\n",
      "10 x 2 = 20\n",
      "11 x 2 = 22\n",
      "12 x 2 = 24\n",
      "13 x 2 = 26\n",
      "14 x 2 = 28\n",
      "15 x 2 = 30\n",
      "16 x 2 = 32\n",
      "17 x 2 = 34\n",
      "18 x 2 = 36\n",
      "19 x 2 = 38\n",
      "20 x 2 = 40\n",
      "==================\n",
      "1 x 8 = 8\n",
      "2 x 8 = 16\n",
      "3 x 8 = 24\n",
      "4 x 8 = 32\n",
      "5 x 8 = 40\n",
      "6 x 8 = 48\n",
      "7 x 8 = 56\n",
      "8 x 8 = 64\n",
      "9 x 8 = 72\n",
      "10 x 8 = 80\n",
      "11 x 8 = 88\n",
      "12 x 8 = 96\n",
      "13 x 8 = 104\n",
      "14 x 8 = 112\n",
      "15 x 8 = 120\n",
      "16 x 8 = 128\n",
      "17 x 8 = 136\n",
      "18 x 8 = 144\n",
      "19 x 8 = 152\n",
      "20 x 8 = 160\n",
      "==================\n",
      "1 x 11 = 11\n",
      "2 x 11 = 22\n",
      "3 x 11 = 33\n",
      "4 x 11 = 44\n",
      "5 x 11 = 55\n",
      "6 x 11 = 66\n",
      "7 x 11 = 77\n",
      "8 x 11 = 88\n",
      "9 x 11 = 99\n",
      "10 x 11 = 110\n",
      "11 x 11 = 121\n",
      "12 x 11 = 132\n",
      "13 x 11 = 143\n",
      "14 x 11 = 154\n",
      "15 x 11 = 165\n",
      "16 x 11 = 176\n",
      "17 x 11 = 187\n",
      "18 x 11 = 198\n",
      "19 x 11 = 209\n",
      "20 x 11 = 220\n"
     ]
    }
   ],
   "source": [
    "tableMultiplication(2) # returns the multiplication table by 2\n",
    "print('==================')\n",
    "tableMultiplication(8) # returns the multiplication table by 8\n",
    "print('==================')\n",
    "tableMultiplication(11) # returns the multiplication table by 11"
   ]
  },
  {
   "cell_type": "markdown",
   "metadata": {
    "id": "ivKVffCIFZHD"
   },
   "source": [
    "#### One or many parameters, no return\n",
    "\n",
    "A **procedure** is a function  without the `return`instruction. In that case, the function implicitly returns the value `None`:\n",
    "    \n",
    "```python    \n",
    "def table(base, start, end):\n",
    "\"\"\"Displays the multiplicationctable by <base> from <start> to <end>.\"\"\"\n",
    "    n = start\n",
    "    while n <= end:\n",
    "        print(n, ’x’, base, ’=’, n * base, end=” ”)\n",
    "        n += 1\n",
    "```\n",
    "\n",
    "```python\n",
    "# An example to call that procedure:\n",
    "table(7, 2, 11)\n",
    "# 2 x 7 = 14 3 x 7 = 21 4 x 7 = 28 5 x 7 = 35 6 x 7 = 42\n",
    "# 7 x 7 = 49 8 x 7 = 56 9 x 7 = 63 10 x 7 = 70 11 x 7 = 77\n",
    "```"
   ]
  },
  {
   "cell_type": "code",
   "execution_count": 25,
   "metadata": {},
   "outputs": [],
   "source": [
    "def table(base, start, end):\n",
    "    \"\"\"Displays the multiplicationctable by <base> from <start> to <end>.\"\"\"\n",
    "    n = start\n",
    "    while n <= end:\n",
    "        print(n, 'x', base, '=', n * base, end=' ')\n",
    "        n += 1\n",
    "\n"
   ]
  },
  {
   "cell_type": "code",
   "execution_count": 28,
   "metadata": {},
   "outputs": [
    {
     "name": "stdout",
     "output_type": "stream",
     "text": [
      "2 x 7 = 14 3 x 7 = 21 4 x 7 = 28 5 x 7 = 35 6 x 7 = 42 7 x 7 = 49 8 x 7 = 56 9 x 7 = 63 10 x 7 = 70 11 x 7 = 77 "
     ]
    }
   ],
   "source": [
    "# An example to call that procedure:\n",
    "table(7, 2, 11)\n",
    "# 2 x 7 = 14 3 x 7 = 21 4 x 7 = 28 5 x 7 = 35 6 x 7 = 42\n",
    "# 7 x 7 = 49 8 x 7 = 56 9 x 7 = 63 10 x 7 = 70 11 x 7 = 77"
   ]
  },
  {
   "cell_type": "markdown",
   "metadata": {
    "id": "WMWVzW97FZHD"
   },
   "source": [
    "#### One or more parameters, use of `return`\n",
    "\n",
    "**Example with the use of a unique `return`:**\n",
    "\n",
    "\n",
    "```python\n",
    "\n",
    "def square(x):\n",
    "    return x**2\n",
    "\n",
    "def area_square(r):\n",
    "    return square(r)\n",
    "\n",
    "# Input of the square side and display of the area\n",
    "\n",
    "side = float(input('side : ''))\n",
    "print(”Area of the square =”, area_square(side))\n",
    "```\n",
    "\n",
    "\n",
    "**Example with the use of a multiple `return`:**\n",
    "```python\n",
    "PI = 3.14\n",
    "def surfaceVolumeSphere(r):\n",
    "        surf = 4.0 *PI* r**2\n",
    "        vol = surf * r/3\n",
    "    return surf, vol\n",
    "```\n",
    "```python\n",
    "# main programme\n",
    "radius = float(input('radius : '))\n",
    "s, v = surfaceVolumeSphere(radius)\n",
    "print('Sphere of surface {:g} and volume {:g}'.format(s, v))\n",
    "```"
   ]
  },
  {
   "cell_type": "code",
   "execution_count": 7,
   "metadata": {},
   "outputs": [],
   "source": [
    "def square(x):\n",
    "    return x**2"
   ]
  },
  {
   "cell_type": "code",
   "execution_count": 8,
   "metadata": {},
   "outputs": [
    {
     "data": {
      "text/plain": [
       "16"
      ]
     },
     "execution_count": 8,
     "metadata": {},
     "output_type": "execute_result"
    }
   ],
   "source": [
    "square(4)"
   ]
  },
  {
   "cell_type": "code",
   "execution_count": 9,
   "metadata": {},
   "outputs": [],
   "source": [
    "PI = 3.14\n",
    "def surfaceVolumeSphere(r):\n",
    "    surf = 4.0 *PI* r**2\n",
    "    vol = surf * r/3\n",
    "    return surf, vol\n"
   ]
  },
  {
   "cell_type": "code",
   "execution_count": 10,
   "metadata": {},
   "outputs": [
    {
     "data": {
      "text/plain": [
       "(50.24, 33.49333333333333)"
      ]
     },
     "execution_count": 10,
     "metadata": {},
     "output_type": "execute_result"
    }
   ],
   "source": [
    "surfaceVolumeSphere(2)"
   ]
  },
  {
   "cell_type": "code",
   "execution_count": 6,
   "metadata": {},
   "outputs": [
    {
     "ename": "IndentationError",
     "evalue": "unindent does not match any outer indentation level (<tokenize>, line 5)",
     "output_type": "error",
     "traceback": [
      "\u001b[1;36m  File \u001b[1;32m<tokenize>:5\u001b[1;36m\u001b[0m\n\u001b[1;33m    return surf, vol\u001b[0m\n\u001b[1;37m    ^\u001b[0m\n\u001b[1;31mIndentationError\u001b[0m\u001b[1;31m:\u001b[0m unindent does not match any outer indentation level\n"
     ]
    }
   ],
   "source": [
    "PI = 3.14\n",
    "def surfaceVolumeSphere(r):\n",
    "        surf = 4.0 *PI* r**2\n",
    "        vol = surf * r/3\n",
    "    return surf, vol\n",
    "surfaceVolumeSphere(2)"
   ]
  },
  {
   "cell_type": "code",
   "execution_count": 5,
   "metadata": {},
   "outputs": [],
   "source": [
    "def even_number(n):\n",
    "    n=1\n",
    "    while n<=11:\n",
    "        if n%2 == 0:\n",
    "            return n\n",
    "    n =n+1"
   ]
  },
  {
   "cell_type": "code",
   "execution_count": null,
   "metadata": {},
   "outputs": [],
   "source": [
    "even_number(10)"
   ]
  },
  {
   "cell_type": "markdown",
   "metadata": {
    "id": "oz8mtqYaFZHE"
   },
   "source": [
    "### Passing a function as parameter\n",
    "\n",
    "```python\n",
    "def tabulate(fonction, lowerboundary, upperboundary, number_of_steps):\n",
    "    \"\"\"Display of the values of <fonction>. We must have (lowerboundary < upperboundary) et (number_of_steps > 0)\"\"\"\n",
    "    h, x = (upperboundary - lowerboundary) / float(number_of_steps), lowerboundary\n",
    "    while x <= lowerboundary:\n",
    "        y = fonction(x)\n",
    "        print(”f({:.2f}) = {:.2f}”.format(x, y))\n",
    "        x += h\n",
    "```\n",
    "\n",
    "```python\n",
    "def myFunction(x):\n",
    "    return 2*x**3 + x - 5\n",
    "```\n",
    "```python\n",
    "tabulate(myFunction, -5, 5, 10)\n",
    "# f(-5.00) = -260.00\n",
    "# f(-4.00) = -137.00\n",
    "# ...\n",
    "# f(5.00) = 250.00\n",
    "```"
   ]
  },
  {
   "cell_type": "markdown",
   "metadata": {
    "id": "xB-vGqlqFZHF"
   },
   "source": [
    "### Definition of default values for the arguments of a function\n",
    "\n",
    "When one defines a function, it is often adviced to define default values for some arguments (especially optional arguments). By defining the default value of the arguments of a function, it is possible to call the programme with just a part of expected arguments. Examples :\n",
    "\n",
    "```python\n",
    "   def greeting(name, title ='Mr. '):\n",
    "        print(\"Good morning\", title, name)\n",
    "```\n",
    "\n",
    "The function greeting as defined has two arguments : name and title. A default value has been defined for the argument. Thus, the argument name (forgetting the argument), the function returns the default value Mr.\n",
    "Example :\n",
    "\n",
    "```python\n",
    "   greeting('Dupont') # returns Good morning Mr. Dupont\n",
    "```    \n",
    "\n",
    "But when the function is called with the both arguments, the default value is ignored.\n",
    "\n",
    "By defining the default values of the arguments of a function, it is possible to call the programme with just a part of expected arguments. Example :\n",
    "\n",
    "```python\n",
    "   greeting('Dupont', 'Miss')\n",
    "```"
   ]
  },
  {
   "cell_type": "markdown",
   "metadata": {
    "id": "RHv5F3b5FZHK"
   },
   "source": [
    "<left> <b> <span style=\"color:brown;\"> Note : The arguments without default values must be specified before the arguments with default values. For instance, the below definition is not correct and returns an error when executed.</span> </b></left>\n",
    "```python\n",
    "   def greeting(title='Mr.', name):\n",
    "```    "
   ]
  },
  {
   "cell_type": "code",
   "execution_count": 35,
   "metadata": {
    "id": "kDix6hqeFZHX"
   },
   "outputs": [
    {
     "name": "stdout",
     "output_type": "stream",
     "text": [
      "Good morning Mme Awa\n"
     ]
    }
   ],
   "source": [
    "def greeting(name, title ='Mr. '):\n",
    "    print(\"Good morning\", title, name)\n",
    "greeting('Awa', 'Mme')"
   ]
  },
  {
   "cell_type": "markdown",
   "metadata": {
    "id": "tH_q_DXAFZHY"
   },
   "source": [
    "### The lambda functions\n",
    "A lambda function is an anonymous function,i.e a function made of bloc of instructions that can be called and used again as a function, but without name. A lambda function is generally used for very short functions with little instructions\n",
    "(That don't require to write a classical function with the keyword `def` and a call).\n",
    "\n",
    "The general syntax to define a lamda function is the following:\n",
    "\n",
    "```python\n",
    "   lambda arg1, arg2,..., argN : bloc of instructions(or formulas)\n",
    "```\n",
    "\n",
    "The following example illustrates the definition of a lambda function.\n",
    "```python\n",
    "   lambda x, y : x * y\n",
    "```    "
   ]
  },
  {
   "cell_type": "markdown",
   "metadata": {
    "id": "ptE__I5kFZHZ"
   },
   "source": [
    "Please note that even if the lambda function is not defined with a name, to recover the returned value, during the call of the function, one must assign it to a new variable. The below example illustrates the call of the previous lambda function by taking x=2 and y=3.\n",
    "```python\n",
    "   x = lambda x, y : x * y\n",
    "   x(2,3)\n",
    "```"
   ]
  },
  {
   "cell_type": "code",
   "execution_count": null,
   "metadata": {
    "id": "cmZ-RyJAFZHa"
   },
   "outputs": [],
   "source": [
    "x = lambda x, y : x * y\n",
    "x(2,3)"
   ]
  },
  {
   "cell_type": "markdown",
   "metadata": {
    "id": "0DKABQcFFZHb"
   },
   "source": [
    "<left> <b> <span style=\"color:red;\">\n",
    "        Note : When we define variables inside a function, those variables are only accessibles for that function itself. One says these variables are `« local »` variables for the function. But when these variables are defined outside the function in the body of the main programmen they are called `« global »` variables. The contene of a global variable is visible and accessible through the interieo of a function, but that function can't modify the value of the variable.</span> </b></left>"
   ]
  },
  {
   "cell_type": "code",
   "execution_count": null,
   "metadata": {
    "id": "aWAXdwPXFZHd"
   },
   "outputs": [],
   "source": [
    "def myFunction():\n",
    "    p = 20\n",
    "    print(p, q)\n",
    "p=15\n",
    "q=38\n",
    "\n",
    "print(p, q) # returns 15 38\n",
    "myFunction() # calls the function, returns 20 38\n",
    "print(p, q) # returns 15 38"
   ]
  },
  {
   "cell_type": "markdown",
   "metadata": {
    "id": "x64nWbknFZHe"
   },
   "source": [
    "We can however the default behaviour that allows the function to modify the value of the global variable. In this case, one must explicitly define the variable as global inside the function. Example:"
   ]
  },
  {
   "cell_type": "code",
   "execution_count": null,
   "metadata": {
    "id": "Ue5Z85OKFZHg"
   },
   "outputs": [],
   "source": [
    "def myFunction():\n",
    "    global p\n",
    "    p = 20\n",
    "    print(p, q)\n",
    "p=15\n",
    "q=38\n",
    "print(p, q) # returns 15 38\n",
    "myFunction() # calls the function, returns 20 38\n",
    "print(p, q) # returns 20 38"
   ]
  },
  {
   "cell_type": "markdown",
   "metadata": {
    "id": "eLPM0aWXFZHg"
   },
   "source": [
    "### Arbitrary number of arguments : passing a tuple"
   ]
  },
  {
   "cell_type": "code",
   "execution_count": null,
   "metadata": {
    "id": "b11za1b8FZHh"
   },
   "outputs": [],
   "source": [
    "def mysum(*args):\n",
    "    \"\"\"\" Returns the sum of <tuples>.\"\"\"\n",
    "    result = 0\n",
    "    for number in args:\n",
    "        result += number\n",
    "    return result\n",
    "\n",
    "# Examples of call :\n",
    "print(mysum(23)) # 23\n",
    "print(mysum(23, 42, 13)) # 78"
   ]
  },
  {
   "cell_type": "markdown",
   "metadata": {
    "id": "toFX4qCZFZHi"
   },
   "source": [
    "If the function has many arguments, the *tuple* is in last position. It is also possible to pass a tuple (in fact a sequence) by a call that will be decompressed by a list of parameters of a « classical » function :\n",
    "\n",
    "```python\n",
    "   def mysum(a, b, c):\n",
    "        return a+b+c\n",
    "    \n",
    "   # Example of a call :\n",
    "   elements = (2, 4, 6)\n",
    "   print(mysum(*elements)) # 12\n",
    "\n",
    "```"
   ]
  },
  {
   "cell_type": "markdown",
   "metadata": {
    "id": "IMFuErogFZHp"
   },
   "source": [
    "### Arbitrary number of arguments : passing a dictionary"
   ]
  },
  {
   "cell_type": "code",
   "execution_count": null,
   "metadata": {
    "id": "PPYcCS0vFZHt"
   },
   "outputs": [],
   "source": [
    "def oneDict(**kargs):\n",
    "    return kargs\n",
    "\n",
    "# Examples of calls\n",
    "## by named parameters :\n",
    "print(oneDict(a=23, b=42)) # {’a’: 23, ’b’: 42}\n",
    "\n",
    "## by supplying a dictionary :\n",
    "words = {'d': 85, 'e': 14, 'f':9}\n",
    "print(oneDict(**words)) # {’e’: 14, ’d’: 85, ’f’: 9}"
   ]
  },
  {
   "cell_type": "markdown",
   "metadata": {
    "id": "iXobAyRFFZHv"
   },
   "source": [
    "### Document a function\n",
    "\n",
    "After elaborating a function (especially a function relatively long and complex), it is strongly suggested to document it to allows other users to quickly appropriate it themselves. The documentation of a function is generally a chain of characters that gives a general idea of the function and also the useful helps. This description is generally specified after the declaration of the name of the function before the definition of the other blocs of instructions. \n",
    "\n",
    "The following example illustrates how to document a function and to access that documentation when needed."
   ]
  },
  {
   "cell_type": "code",
   "execution_count": 36,
   "metadata": {
    "id": "HQubFOVfFZHw"
   },
   "outputs": [],
   "source": [
    "def volumeSphere():\n",
    "    \"\"\" This programme calculate the volume of a cube.\\n The function is defined with only one mandatory argument r\n",
    "    that represents the radius of the circle.\n",
    "    The latter can take any positive value\"\"\"\n",
    "    r=float(input(\"Enter the radius of the sphere\"))\n",
    "    PI = 3.14\n",
    "    return (4 * PI * r**3)/3"
   ]
  },
  {
   "cell_type": "markdown",
   "metadata": {
    "id": "dLqPKvOWFZHz"
   },
   "source": [
    "In the definition of the function volumeSphere, the chain of characters does not play any functional role in the script : it is  treated by Python as a simple comment, but which is memorized as an internal documentation on the function. That documentation is stored inside an attribute called `__doc__`. To display that attribute, one does:"
   ]
  },
  {
   "cell_type": "code",
   "execution_count": 37,
   "metadata": {
    "id": "H_pCma-GFZH0"
   },
   "outputs": [
    {
     "name": "stdout",
     "output_type": "stream",
     "text": [
      " This programme calculate the volume of a cube.\n",
      " The function is defined with only one mandatory argument r\n",
      "    that represents the radius of the circle.\n",
      "    The latter can take any positive value\n"
     ]
    }
   ],
   "source": [
    "print(volumeSphere.__doc__)"
   ]
  },
  {
   "cell_type": "markdown",
   "metadata": {
    "id": "9m6eB1lDFZH1"
   },
   "source": [
    "## Modules \n",
    "(un Module est un ensemble de fonction)\n",
    "\n",
    "\n",
    "A Python programme is generally made of many sources files called *modules*. Their name often end with `.py`. If they are well coded the modules must be independent the ones from the others to be again used when needed in some others programmes.\n",
    "\n",
    "`The modules are files that gather packs of functions`.\n",
    "A **module** is an independent file allowing to divide a programme into many scripts. This mechanism allows to efficiently elaborate libraries of functions or classes.\n",
    "\n",
    "Advantages of modules :\n",
    "\n",
    "- re-use of code ;\n",
    "- the documentation and the tests can be integrated to the module ;\n",
    "- realisation of services or of shared data ;\n",
    "- partition of the space of system names.\n",
    "\n",
    "As dictionaries are collections of objects (lists, tuples, set, etc..), modules are collections of functions that allows to make related tasks.\n",
    "For instance, the math module contains some mathematical functions such that sinus, cosinus, tangent, square root, etc.\n",
    "\n",
    "Many modules are already pre-installed in the standard library of python. However, to perform some specific tasks, we are often obliged to install some extra modules (ex : numpy, scipy, matplotlib, pandas, etc..)"
   ]
  },
  {
   "cell_type": "markdown",
   "metadata": {
    "id": "Bisw0NiKFZH1"
   },
   "source": [
    "### Importation of a module\n",
    "\n",
    "Two syntaxes are possibles :\n",
    "    \n",
    "- the command `import module_name` import all the objects of the module :  \n",
    "  ```python\n",
    "     import tkinter\n",
    "  ```\n",
    "- the command `from <module_name> import obj1, obj2`... only imports objects `obj1, obj2...` of the module : \n",
    "  ```python\n",
    "     from math import pi, sin, log\n",
    "  ```\n",
    "  \n",
    "It is adviced to import in order:\n",
    "- the modules of the standard library ;\n",
    "- the modules of the third party library ;\n",
    "- the personal modules.  "
   ]
  },
  {
   "cell_type": "markdown",
   "metadata": {
    "id": "lYl0lA9CFZH4"
   },
   "source": [
    "### The standard library\n",
    "One often says Python is delivered « batteries included » as its standard library, rich of more than 200 packages and modules, answers current multivariate problems."
   ]
  },
  {
   "cell_type": "code",
   "execution_count": 38,
   "metadata": {
    "id": "MZ1ZlZXAFZH7"
   },
   "outputs": [
    {
     "data": {
      "text/plain": [
       "['__doc__',\n",
       " '__file__',\n",
       " '__loader__',\n",
       " '__name__',\n",
       " '__package__',\n",
       " '__spec__',\n",
       " 'acos',\n",
       " 'acosh',\n",
       " 'asin',\n",
       " 'asinh',\n",
       " 'atan',\n",
       " 'atan2',\n",
       " 'atanh',\n",
       " 'ceil',\n",
       " 'copysign',\n",
       " 'cos',\n",
       " 'cosh',\n",
       " 'degrees',\n",
       " 'e',\n",
       " 'erf',\n",
       " 'erfc',\n",
       " 'exp',\n",
       " 'expm1',\n",
       " 'fabs',\n",
       " 'factorial',\n",
       " 'floor',\n",
       " 'fmod',\n",
       " 'frexp',\n",
       " 'fsum',\n",
       " 'gamma',\n",
       " 'gcd',\n",
       " 'hypot',\n",
       " 'inf',\n",
       " 'isclose',\n",
       " 'isfinite',\n",
       " 'isinf',\n",
       " 'isnan',\n",
       " 'ldexp',\n",
       " 'lgamma',\n",
       " 'log',\n",
       " 'log10',\n",
       " 'log1p',\n",
       " 'log2',\n",
       " 'modf',\n",
       " 'nan',\n",
       " 'pi',\n",
       " 'pow',\n",
       " 'radians',\n",
       " 'remainder',\n",
       " 'sin',\n",
       " 'sinh',\n",
       " 'sqrt',\n",
       " 'tan',\n",
       " 'tanh',\n",
       " 'tau',\n",
       " 'trunc']"
      ]
     },
     "execution_count": 38,
     "metadata": {},
     "output_type": "execute_result"
    }
   ],
   "source": [
    "import math\n",
    "dir(math)  # To see the pack of functions that the module contains"
   ]
  },
  {
   "cell_type": "code",
   "execution_count": 39,
   "metadata": {
    "id": "5Z41VrUaFZH-"
   },
   "outputs": [
    {
     "name": "stdout",
     "output_type": "stream",
     "text": [
      "Help on built-in function gamma in module math:\n",
      "\n",
      "gamma(x, /)\n",
      "    Gamma function at x.\n",
      "\n"
     ]
    }
   ],
   "source": [
    "help(math.gamma) # returns the help on the gamma function of the math module"
   ]
  },
  {
   "cell_type": "code",
   "execution_count": null,
   "metadata": {
    "id": "FmCVWtUvFZH_"
   },
   "outputs": [],
   "source": [
    "from math import sin # Imports the function sinus\n",
    "from math import cos, sin, tan, pi # respectively imports cosinus, sinus, tangent functions and the value pi (3.14)."
   ]
  },
  {
   "cell_type": "code",
   "execution_count": 40,
   "metadata": {
    "id": "nXvuLi2IFZIB"
   },
   "outputs": [],
   "source": [
    "from math import * # Imports all the functions associated to math (equivalent to import math)"
   ]
  },
  {
   "cell_type": "markdown",
   "metadata": {
    "id": "Bg1zvB8cFZIC"
   },
   "source": [
    "<left> <b> <span style=\"color:brown;\">Some utilities of the math function: </span> </b></left>\n",
    "```python\n",
    "   from math import *\n",
    "    v=16 # defines a variable v\n",
    "    x = math.sqrt (v) # Returns the square root of v\n",
    "    y = math.e(v) # Returns the exponential of v\n",
    "    z = math.log(v) # Returns the natural logarithm of v\n",
    "\n",
    "```"
   ]
  },
  {
   "cell_type": "markdown",
   "metadata": {
    "id": "H0PodGl1FZID"
   },
   "source": [
    "<left> <b> <span style=\"color:brown;\">Some examples on the use of the random module: </span> </b></left>\n",
    "\n",
    "```python\n",
    "  from random import random, randint, seed, uniform, randrange,sample, shuffle # Imports some useful functions of random\n",
    " \n",
    "```"
   ]
  },
  {
   "cell_type": "code",
   "execution_count": 42,
   "metadata": {
    "id": "e4G6krf0FZIE"
   },
   "outputs": [
    {
     "name": "stdout",
     "output_type": "stream",
     "text": [
      "0.2816295449783621\n"
     ]
    }
   ],
   "source": [
    "#Nombre aleatoire\n",
    "import random\n",
    "x=random.random() # Returns a random number\n",
    "print(x)"
   ]
  },
  {
   "cell_type": "code",
   "execution_count": 45,
   "metadata": {
    "id": "rNO8iUncFZIJ"
   },
   "outputs": [
    {
     "name": "stdout",
     "output_type": "stream",
     "text": [
      "8\n"
     ]
    }
   ],
   "source": [
    "import random\n",
    "x=random.randint(5,17) # Returns a random number between 5 and 17\n",
    "print(x)"
   ]
  },
  {
   "cell_type": "code",
   "execution_count": 47,
   "metadata": {
    "id": "chj7zEc9FZIO"
   },
   "outputs": [
    {
     "name": "stdout",
     "output_type": "stream",
     "text": [
      "16.37498817367492\n"
     ]
    }
   ],
   "source": [
    "import random\n",
    "x=random.uniform(5,17) # Returns a uniform random number between 5 and 17.\n",
    "print(x)"
   ]
  },
  {
   "cell_type": "markdown",
   "metadata": {
    "id": "_Ug8egFbFZIP"
   },
   "source": [
    "## Play with the modules `turtle`, `time`, `decimal`, `fractions`, `cmath`."
   ]
  },
  {
   "cell_type": "markdown",
   "metadata": {
    "id": "7N0cB4sHFZIR"
   },
   "source": [
    "### Third party libraries\n",
    "Beside the modules integrated to the standard distribution of Python, one finds libraries in all others domains:\n",
    "- scientifical ;\n",
    "- data bases ;\n",
    "- fonctional tests and quality control;\n",
    "- 3D ;\n",
    "- ...\n",
    "\n",
    "The site [PYPI](pypi.python.org/pypi) (The Python Package Index) contains many modules and packages !"
   ]
  }
 ],
 "metadata": {
  "colab": {
   "name": "6_Fonctions-et-Modules.ipynb",
   "provenance": []
  },
  "kernelspec": {
   "display_name": "Python 3 (ipykernel)",
   "language": "python",
   "name": "python3"
  },
  "language_info": {
   "codemirror_mode": {
    "name": "ipython",
    "version": 3
   },
   "file_extension": ".py",
   "mimetype": "text/x-python",
   "name": "python",
   "nbconvert_exporter": "python",
   "pygments_lexer": "ipython3",
   "version": "3.10.7"
  },
  "varInspector": {
   "cols": {
    "lenName": 16,
    "lenType": 16,
    "lenVar": 40
   },
   "kernels_config": {
    "python": {
     "delete_cmd_postfix": "",
     "delete_cmd_prefix": "del ",
     "library": "var_list.py",
     "varRefreshCmd": "print(var_dic_list())"
    },
    "r": {
     "delete_cmd_postfix": ") ",
     "delete_cmd_prefix": "rm(",
     "library": "var_list.r",
     "varRefreshCmd": "cat(var_dic_list()) "
    }
   },
   "types_to_exclude": [
    "module",
    "function",
    "builtin_function_or_method",
    "instance",
    "_Feature"
   ],
   "window_display": false
  }
 },
 "nbformat": 4,
 "nbformat_minor": 1
}
